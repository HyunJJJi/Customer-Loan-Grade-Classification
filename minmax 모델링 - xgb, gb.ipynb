{
 "cells": [
  {
   "cell_type": "code",
   "execution_count": null,
   "metadata": {},
   "outputs": [],
   "source": [
    "import sklearn\n",
    "import numpy as np\n",
    "import pandas as pd\n",
    "import matplotlib.pyplot as plt\n",
    "import seaborn as sns\n",
    "\n",
    "plt.rcParams['font.family'] = 'Malgun Gothic'"
   ]
  },
  {
   "cell_type": "code",
   "execution_count": 2,
   "metadata": {},
   "outputs": [
    {
     "data": {
      "text/html": [
       "<div>\n",
       "<style scoped>\n",
       "    .dataframe tbody tr th:only-of-type {\n",
       "        vertical-align: middle;\n",
       "    }\n",
       "\n",
       "    .dataframe tbody tr th {\n",
       "        vertical-align: top;\n",
       "    }\n",
       "\n",
       "    .dataframe thead th {\n",
       "        text-align: right;\n",
       "    }\n",
       "</style>\n",
       "<table border=\"1\" class=\"dataframe\">\n",
       "  <thead>\n",
       "    <tr style=\"text-align: right;\">\n",
       "      <th></th>\n",
       "      <th>대출금액</th>\n",
       "      <th>대출기간</th>\n",
       "      <th>연간소득</th>\n",
       "      <th>부채_대비_소득_비율</th>\n",
       "      <th>총계좌수</th>\n",
       "      <th>최근_2년간_연체_횟수</th>\n",
       "      <th>총상환원금</th>\n",
       "      <th>총상환이자</th>\n",
       "      <th>총연체금액</th>\n",
       "      <th>연체계좌수</th>\n",
       "      <th>총상환액</th>\n",
       "      <th>총상환대출비율</th>\n",
       "      <th>월별대출금액</th>\n",
       "      <th>대출목적</th>\n",
       "      <th>주택소유상태</th>\n",
       "      <th>근로기간</th>\n",
       "      <th>대출등급</th>\n",
       "    </tr>\n",
       "  </thead>\n",
       "  <tbody>\n",
       "    <tr>\n",
       "      <th>0</th>\n",
       "      <td>0.658671</td>\n",
       "      <td>0.0</td>\n",
       "      <td>0.783116</td>\n",
       "      <td>0.324713</td>\n",
       "      <td>0.329845</td>\n",
       "      <td>0.0</td>\n",
       "      <td>0.000000</td>\n",
       "      <td>0.000000</td>\n",
       "      <td>0.0</td>\n",
       "      <td>0.0</td>\n",
       "      <td>0.000000</td>\n",
       "      <td>0.000000</td>\n",
       "      <td>0.658669</td>\n",
       "      <td>1</td>\n",
       "      <td>2</td>\n",
       "      <td>6</td>\n",
       "      <td>2</td>\n",
       "    </tr>\n",
       "    <tr>\n",
       "      <th>1</th>\n",
       "      <td>0.698921</td>\n",
       "      <td>1.0</td>\n",
       "      <td>0.808957</td>\n",
       "      <td>0.341979</td>\n",
       "      <td>0.420151</td>\n",
       "      <td>0.0</td>\n",
       "      <td>0.731015</td>\n",
       "      <td>0.795184</td>\n",
       "      <td>0.0</td>\n",
       "      <td>0.0</td>\n",
       "      <td>0.758338</td>\n",
       "      <td>0.057717</td>\n",
       "      <td>0.555240</td>\n",
       "      <td>10</td>\n",
       "      <td>0</td>\n",
       "      <td>1</td>\n",
       "      <td>1</td>\n",
       "    </tr>\n",
       "    <tr>\n",
       "      <th>2</th>\n",
       "      <td>0.647640</td>\n",
       "      <td>0.0</td>\n",
       "      <td>0.795568</td>\n",
       "      <td>0.245568</td>\n",
       "      <td>0.311543</td>\n",
       "      <td>0.0</td>\n",
       "      <td>0.782895</td>\n",
       "      <td>0.767395</td>\n",
       "      <td>0.0</td>\n",
       "      <td>0.0</td>\n",
       "      <td>0.791120</td>\n",
       "      <td>0.120407</td>\n",
       "      <td>0.647638</td>\n",
       "      <td>1</td>\n",
       "      <td>0</td>\n",
       "      <td>5</td>\n",
       "      <td>0</td>\n",
       "    </tr>\n",
       "  </tbody>\n",
       "</table>\n",
       "</div>"
      ],
      "text/plain": [
       "       대출금액  대출기간      연간소득  부채_대비_소득_비율      총계좌수  최근_2년간_연체_횟수     총상환원금  \\\n",
       "0  0.658671   0.0  0.783116     0.324713  0.329845           0.0  0.000000   \n",
       "1  0.698921   1.0  0.808957     0.341979  0.420151           0.0  0.731015   \n",
       "2  0.647640   0.0  0.795568     0.245568  0.311543           0.0  0.782895   \n",
       "\n",
       "      총상환이자  총연체금액  연체계좌수      총상환액   총상환대출비율    월별대출금액  대출목적  주택소유상태  근로기간  \\\n",
       "0  0.000000    0.0    0.0  0.000000  0.000000  0.658669     1       2     6   \n",
       "1  0.795184    0.0    0.0  0.758338  0.057717  0.555240    10       0     1   \n",
       "2  0.767395    0.0    0.0  0.791120  0.120407  0.647638     1       0     5   \n",
       "\n",
       "   대출등급  \n",
       "0     2  \n",
       "1     1  \n",
       "2     0  "
      ]
     },
     "execution_count": 2,
     "metadata": {},
     "output_type": "execute_result"
    }
   ],
   "source": [
    "# 96293 rows × 18 columns\n",
    "df = pd.read_csv(\"train_data_mm.csv\") # train 데이터셋 불러오기\n",
    "df.head(3)"
   ]
  },
  {
   "cell_type": "code",
   "execution_count": 3,
   "metadata": {},
   "outputs": [],
   "source": [
    "from sklearn.model_selection import train_test_split"
   ]
  },
  {
   "cell_type": "code",
   "execution_count": 4,
   "metadata": {},
   "outputs": [],
   "source": [
    "# 머신러닝모델 라이브러리 \n",
    "\n",
    "from sklearn.tree import DecisionTreeClassifier\n",
    "from sklearn.ensemble import RandomForestClassifier \n",
    "from sklearn.ensemble import ExtraTreesClassifier\n",
    "from sklearn.ensemble import GradientBoostingClassifier\n",
    "from sklearn.ensemble import AdaBoostClassifier\n",
    "from sklearn.ensemble import BaggingClassifier\n",
    "from xgboost import XGBClassifier\n",
    "from lightgbm import LGBMClassifier\n",
    "\n",
    "# 평가 라이브러리\n",
    "from sklearn.metrics import accuracy_score, f1_score"
   ]
  },
  {
   "cell_type": "markdown",
   "metadata": {},
   "source": [
    "## 1) 전체 feature에 대해 XGBoost, GradientBoosting"
   ]
  },
  {
   "cell_type": "code",
   "execution_count": 5,
   "metadata": {},
   "outputs": [],
   "source": [
    "X_features = ['대출금액', '대출기간', '연간소득', '부채_대비_소득_비율', '총계좌수', '최근_2년간_연체_횟수', '총상환원금', '총상환이자', '총연체금액', '연체계좌수', '총상환액', '총상환대출비율', '월별대출금액']"
   ]
  },
  {
   "cell_type": "code",
   "execution_count": 6,
   "metadata": {},
   "outputs": [],
   "source": [
    "X = df[X_features] \n",
    "y = df['대출등급']\n",
    "\n",
    "X_train, X_test, y_train, y_test = train_test_split(X, y, test_size=0.2, random_state=42, stratify = y)"
   ]
  },
  {
   "cell_type": "markdown",
   "metadata": {},
   "source": [
    "#### 1) XGBoost"
   ]
  },
  {
   "cell_type": "code",
   "execution_count": 7,
   "metadata": {},
   "outputs": [
    {
     "data": {
      "text/html": [
       "<div>\n",
       "<style scoped>\n",
       "    .dataframe tbody tr th:only-of-type {\n",
       "        vertical-align: middle;\n",
       "    }\n",
       "\n",
       "    .dataframe tbody tr th {\n",
       "        vertical-align: top;\n",
       "    }\n",
       "\n",
       "    .dataframe thead th {\n",
       "        text-align: right;\n",
       "    }\n",
       "</style>\n",
       "<table border=\"1\" class=\"dataframe\">\n",
       "  <thead>\n",
       "    <tr style=\"text-align: right;\">\n",
       "      <th></th>\n",
       "      <th>accuracy</th>\n",
       "      <th>F1</th>\n",
       "    </tr>\n",
       "  </thead>\n",
       "  <tbody>\n",
       "    <tr>\n",
       "      <th>train</th>\n",
       "      <td>0.826077</td>\n",
       "      <td>0.825775</td>\n",
       "    </tr>\n",
       "    <tr>\n",
       "      <th>test</th>\n",
       "      <td>0.807207</td>\n",
       "      <td>0.806389</td>\n",
       "    </tr>\n",
       "  </tbody>\n",
       "</table>\n",
       "</div>"
      ],
      "text/plain": [
       "       accuracy        F1\n",
       "train  0.826077  0.825775\n",
       "test   0.807207  0.806389"
      ]
     },
     "metadata": {},
     "output_type": "display_data"
    }
   ],
   "source": [
    "# xgboost\n",
    "\n",
    "model_xgb = XGBClassifier(n_estimators=100, learning_rate=0.1, max_depth=5)\n",
    "model_xgb.fit(X_train, y_train)\n",
    "\n",
    "y_pred_train = model_xgb.predict(X_train)\n",
    "y_pred_test = model_xgb.predict(X_test)\n",
    "    \n",
    "train_accuracy = accuracy_score(y_train, y_pred_train)\n",
    "test_accuracy = accuracy_score(y_test, y_pred_test)\n",
    "    \n",
    "train_f1_score = f1_score(y_train, y_pred_train, average='weighted')\n",
    "test_f1_score = f1_score(y_test, y_pred_test, average='weighted')\n",
    "\n",
    "result_xgb = pd.DataFrame({'accuracy' : [train_accuracy, test_accuracy],\n",
    "                            'F1' : [train_f1_score, test_f1_score]},\n",
    "                            index = ['train','test'])\n",
    "\n",
    "display(result_xgb)"
   ]
  },
  {
   "cell_type": "code",
   "execution_count": 8,
   "metadata": {},
   "outputs": [
    {
     "data": {
      "text/plain": [
       "array([0.02218815, 0.3098126 , 0.02220559, 0.02005085, 0.01001266,\n",
       "       0.01937176, 0.10844205, 0.1204586 , 0.00507239, 0.00416224,\n",
       "       0.03622973, 0.29666862, 0.02532468], dtype=float32)"
      ]
     },
     "execution_count": 8,
     "metadata": {},
     "output_type": "execute_result"
    }
   ],
   "source": [
    "model_xgb.feature_importances_"
   ]
  },
  {
   "cell_type": "code",
   "execution_count": 9,
   "metadata": {},
   "outputs": [
    {
     "name": "stdout",
     "output_type": "stream",
     "text": [
      "Feature: 대출금액, Importance: 0.022188153117895126\n",
      "Feature: 대출기간, Importance: 0.30981260538101196\n",
      "Feature: 연간소득, Importance: 0.022205591201782227\n",
      "Feature: 부채_대비_소득_비율, Importance: 0.02005084790289402\n",
      "Feature: 총계좌수, Importance: 0.01001265924423933\n",
      "Feature: 최근_2년간_연체_횟수, Importance: 0.019371764734387398\n",
      "Feature: 총상환원금, Importance: 0.1084420457482338\n",
      "Feature: 총상환이자, Importance: 0.12045859545469284\n",
      "Feature: 총연체금액, Importance: 0.005072391591966152\n",
      "Feature: 연체계좌수, Importance: 0.004162240773439407\n",
      "Feature: 총상환액, Importance: 0.036229733377695084\n",
      "Feature: 총상환대출비율, Importance: 0.2966686189174652\n",
      "Feature: 월별대출금액, Importance: 0.02532467618584633\n"
     ]
    }
   ],
   "source": [
    "importances = model_xgb.feature_importances_\n",
    "features = df.columns\n",
    "\n",
    "# 변수이름과 feature importance 값 함께 출력\n",
    "for feature_name, importance in zip(features, importances):\n",
    "    print(f\"Feature: {feature_name}, Importance: {importance}\")"
   ]
  },
  {
   "cell_type": "code",
   "execution_count": 10,
   "metadata": {},
   "outputs": [
    {
     "data": {
      "image/png": "[encoded data removed]",
      "text/plain": [
       "<Figure size 800x800 with 1 Axes>"
      ]
     },
     "metadata": {},
     "output_type": "display_data"
    }
   ],
   "source": [
    "# 피처 중요도 얻기\n",
    "feature_importances = model_xgb.feature_importances_\n",
    "\n",
    "# 피처 중요도를 피처 이름과 함께 DataFrame으로 만들기\n",
    "feature_importance_model_xgb = pd.DataFrame({'Feature': X_train.columns, 'Importance': feature_importances})\n",
    "\n",
    "# 중요도에 따라 내림차순 정렬\n",
    "feature_importance_model_xgb = feature_importance_model_xgb.sort_values(by='Importance', ascending=True)\n",
    "\n",
    "# 피처 중요도 시각화\n",
    "plt.figure(figsize=(8, 8))\n",
    "plt.barh(feature_importance_model_xgb['Feature'], feature_importance_model_xgb['Importance'])\n",
    "plt.xlabel('Feature Importance')\n",
    "plt.title('Feature Importances (model_xgb)')\n",
    "plt.show()"
   ]
  },
  {
   "cell_type": "markdown",
   "metadata": {},
   "source": [
    "대출기간, 총상환대출비율, 총상환이자, 총상환원금, 총상환액, 월별대출금액, 연간소득, 대출금액, 부채_대비_소득_비율, 최근_2년간_연체_횟수, 총계좌수, 총연체금액, 연체계좌수"
   ]
  },
  {
   "cell_type": "markdown",
   "metadata": {},
   "source": [
    "#### 2) GradientBoosting"
   ]
  },
  {
   "cell_type": "code",
   "execution_count": 11,
   "metadata": {},
   "outputs": [
    {
     "data": {
      "text/html": [
       "<div>\n",
       "<style scoped>\n",
       "    .dataframe tbody tr th:only-of-type {\n",
       "        vertical-align: middle;\n",
       "    }\n",
       "\n",
       "    .dataframe tbody tr th {\n",
       "        vertical-align: top;\n",
       "    }\n",
       "\n",
       "    .dataframe thead th {\n",
       "        text-align: right;\n",
       "    }\n",
       "</style>\n",
       "<table border=\"1\" class=\"dataframe\">\n",
       "  <thead>\n",
       "    <tr style=\"text-align: right;\">\n",
       "      <th></th>\n",
       "      <th>accuracy</th>\n",
       "      <th>F1</th>\n",
       "    </tr>\n",
       "  </thead>\n",
       "  <tbody>\n",
       "    <tr>\n",
       "      <th>train</th>\n",
       "      <td>0.887881</td>\n",
       "      <td>0.887983</td>\n",
       "    </tr>\n",
       "    <tr>\n",
       "      <th>test</th>\n",
       "      <td>0.859027</td>\n",
       "      <td>0.858641</td>\n",
       "    </tr>\n",
       "  </tbody>\n",
       "</table>\n",
       "</div>"
      ],
      "text/plain": [
       "       accuracy        F1\n",
       "train  0.887881  0.887983\n",
       "test   0.859027  0.858641"
      ]
     },
     "metadata": {},
     "output_type": "display_data"
    }
   ],
   "source": [
    "# GradientBoosting\n",
    "\n",
    "model_gb = GradientBoostingClassifier(n_estimators=100, learning_rate=0.1, max_depth=5) \n",
    "model_gb.fit(X_train, y_train)\n",
    "\n",
    "y_pred_train = model_gb.predict(X_train)\n",
    "y_pred_test = model_gb.predict(X_test)\n",
    "    \n",
    "train_accuracy = accuracy_score(y_train, y_pred_train)\n",
    "test_accuracy = accuracy_score(y_test, y_pred_test)\n",
    "    \n",
    "train_f1_score = f1_score(y_train, y_pred_train, average='weighted')\n",
    "test_f1_score = f1_score(y_test, y_pred_test, average='weighted')\n",
    "\n",
    "result = pd.DataFrame({'accuracy' : [train_accuracy, test_accuracy],\n",
    "                            'F1' : [train_f1_score, test_f1_score]},\n",
    "                            index = ['train','test'])\n",
    "\n",
    "display(result)"
   ]
  },
  {
   "cell_type": "code",
   "execution_count": 12,
   "metadata": {},
   "outputs": [
    {
     "name": "stdout",
     "output_type": "stream",
     "text": [
      "Feature: 대출금액, Importance: 0.005139082032845614\n",
      "Feature: 대출기간, Importance: 0.07438845140686061\n",
      "Feature: 연간소득, Importance: 0.004481222875924366\n",
      "Feature: 부채_대비_소득_비율, Importance: 0.0038973531693817223\n",
      "Feature: 총계좌수, Importance: 0.0015578693844864216\n",
      "Feature: 최근_2년간_연체_횟수, Importance: 0.0008227518409109255\n",
      "Feature: 총상환원금, Importance: 0.1427814490321521\n",
      "Feature: 총상환이자, Importance: 0.130642274672234\n",
      "Feature: 총연체금액, Importance: 0.0003801967181217008\n",
      "Feature: 연체계좌수, Importance: 2.3970190839314026e-05\n",
      "Feature: 총상환액, Importance: 0.010820279661696708\n",
      "Feature: 총상환대출비율, Importance: 0.6202254241161287\n",
      "Feature: 월별대출금액, Importance: 0.004839674898417833\n"
     ]
    }
   ],
   "source": [
    "importances = model_gb.feature_importances_\n",
    "features = df.columns\n",
    "\n",
    "# 변수이름과 feature importance 값 함께 출력\n",
    "for feature_name, importance in zip(features, importances):\n",
    "    print(f\"Feature: {feature_name}, Importance: {importance}\")"
   ]
  },
  {
   "cell_type": "code",
   "execution_count": 13,
   "metadata": {},
   "outputs": [
    {
     "data": {
      "image/png": "[encoded data removed]",
      "text/plain": [
       "<Figure size 800x800 with 1 Axes>"
      ]
     },
     "metadata": {},
     "output_type": "display_data"
    }
   ],
   "source": [
    "# 피처 중요도 얻기\n",
    "feature_importances = model_gb.feature_importances_\n",
    "\n",
    "# 피처 중요도를 피처 이름과 함께 DataFrame으로 만들기\n",
    "feature_importance_model_gb = pd.DataFrame({'Feature': X_train.columns, 'Importance': feature_importances})\n",
    "\n",
    "# 중요도에 따라 내림차순 정렬\n",
    "feature_importance_model_gb = feature_importance_model_gb.sort_values(by='Importance', ascending=True)\n",
    "\n",
    "# 피처 중요도 시각화\n",
    "plt.figure(figsize=(8, 8))\n",
    "plt.barh(feature_importance_model_gb['Feature'], feature_importance_model_gb['Importance'])\n",
    "plt.xlabel('Feature Importance')\n",
    "plt.title('Feature Importances (GradientBoosting)')\n",
    "plt.show()"
   ]
  },
  {
   "cell_type": "markdown",
   "metadata": {},
   "source": [
    "총상환대출비율, 총상환원금, 총상환이자, 대출기간, 총상환액, 대출금액, 월별대출금액, 연간소득, 부채_대비_소득_비율, 총계좌수, 최근_2년간_연체_횟수, 총연체금액, 연체계좌수"
   ]
  },
  {
   "cell_type": "markdown",
   "metadata": {},
   "source": [
    "## 2) feature 조정 - 임계값 설정"
   ]
  },
  {
   "cell_type": "code",
   "execution_count": 14,
   "metadata": {},
   "outputs": [],
   "source": [
    "import pandas as pd\n",
    "from sklearn.model_selection import train_test_split\n",
    "from xgboost import XGBClassifier\n",
    "from sklearn.feature_selection import SelectFromModel\n",
    "from sklearn.ensemble import GradientBoostingClassifier"
   ]
  },
  {
   "cell_type": "code",
   "execution_count": 15,
   "metadata": {},
   "outputs": [
    {
     "name": "stdout",
     "output_type": "stream",
     "text": [
      "선택된 변수: Index(['대출기간', '총상환원금', '총상환이자', '총상환대출비율'], dtype='object')\n"
     ]
    }
   ],
   "source": [
    "# 특성 중요도를 계산하여 중요한 변수들을 선택 (model_xgb)\n",
    "# 임계값보다 낮은 변수 제거\n",
    "\n",
    "# 특성 중요도 확인\n",
    "feature_importances = model_xgb.feature_importances_\n",
    "\n",
    "# 중요도가 낮은 특성 제거\n",
    "selector = SelectFromModel(model_xgb, threshold=0.05)\n",
    "selector.fit(X_train, y_train)\n",
    "\n",
    "# 선택된 특성들만 남기기\n",
    "X_train_selected = selector.transform(X_train)\n",
    "X_test_selected = selector.transform(X_test)\n",
    "\n",
    "# 선택된 특성들의 이름 확인\n",
    "selected_features = X.columns[selector.get_support()]\n",
    "\n",
    "print(\"선택된 변수:\", selected_features)\n"
   ]
  },
  {
   "cell_type": "code",
   "execution_count": 16,
   "metadata": {},
   "outputs": [
    {
     "name": "stdout",
     "output_type": "stream",
     "text": [
      "선택된 변수: ['대출기간', '총상환원금', '총상환이자', '총상환대출비율']\n"
     ]
    }
   ],
   "source": [
    "# 특성 중요도를 계산하여 중요한 변수들을 선택 (model_xgb)\n",
    "# 임계값보다 높은 변수 선택\n",
    "\n",
    "# 변수 중요도를 확인\n",
    "feature_importance = model_xgb.feature_importances_\n",
    "\n",
    "# 중요도가 높은 변수 선택 (임계값 설정)\n",
    "threshold = 0.05\n",
    "\n",
    "# 중요도가 높은 변수 선택\n",
    "selected_features = [feature for feature, importance in zip(X_features, feature_importance) if importance >= threshold]\n",
    "\n",
    "# 선택된 변수 확인\n",
    "print(\"선택된 변수:\", selected_features)\n",
    "\n",
    "# 선택된 변수들을 이용하여 데이터셋을 업데이트\n",
    "selected_data = df[selected_features]"
   ]
  },
  {
   "cell_type": "code",
   "execution_count": 18,
   "metadata": {},
   "outputs": [
    {
     "name": "stdout",
     "output_type": "stream",
     "text": [
      "선택된 변수: ['대출기간', '총상환원금', '총상환이자', '총상환대출비율']\n"
     ]
    }
   ],
   "source": [
    "# 특성 중요도를 계산하여 중요한 변수들을 선택 (model_gb)\n",
    "# 임계값보다 높은 변수 선택\n",
    "\n",
    "# 변수 중요도를 확인\n",
    "feature_importance = model_gb.feature_importances_\n",
    "\n",
    "# 중요도가 높은 변수 선택 (임계값 설정)\n",
    "threshold = 0.05 \n",
    "\n",
    "# 중요도가 높은 변수 선택\n",
    "selected_features = [feature for feature, importance in zip(X_features, feature_importance) if importance >= threshold]\n",
    "\n",
    "# 선택된 변수 확인\n",
    "print(\"선택된 변수:\", selected_features)\n",
    "\n",
    "# 선택된 변수들을 이용하여 데이터셋을 업데이트\n",
    "selected_data = df[selected_features]\n"
   ]
  },
  {
   "cell_type": "markdown",
   "metadata": {},
   "source": [
    "## 3) 하이퍼파라메터 튜닝"
   ]
  },
  {
   "cell_type": "markdown",
   "metadata": {},
   "source": [
    "- '대출기간', '총상환원금', '총상환이자', '총상환대출비율' 만 남기고 삭제  \n",
    "- 새로운 X_features2 생성"
   ]
  },
  {
   "cell_type": "code",
   "execution_count": 36,
   "metadata": {},
   "outputs": [],
   "source": [
    "from sklearn.model_selection import train_test_split\n",
    "\n",
    "X_features2 = ['대출기간', '총상환원금', '총상환이자', '총상환대출비율']\n",
    "\n",
    "X = df[X_features2] \n",
    "y = df['대출등급']\n",
    "\n",
    "X_train, X_test, y_train, y_test = train_test_split(X, y, test_size=0.2, random_state=42, stratify = y)"
   ]
  },
  {
   "cell_type": "markdown",
   "metadata": {},
   "source": [
    "#### 1) XGBoost"
   ]
  },
  {
   "cell_type": "code",
   "execution_count": 37,
   "metadata": {},
   "outputs": [
    {
     "data": {
      "text/html": [
       "<div>\n",
       "<style scoped>\n",
       "    .dataframe tbody tr th:only-of-type {\n",
       "        vertical-align: middle;\n",
       "    }\n",
       "\n",
       "    .dataframe tbody tr th {\n",
       "        vertical-align: top;\n",
       "    }\n",
       "\n",
       "    .dataframe thead th {\n",
       "        text-align: right;\n",
       "    }\n",
       "</style>\n",
       "<table border=\"1\" class=\"dataframe\">\n",
       "  <thead>\n",
       "    <tr style=\"text-align: right;\">\n",
       "      <th></th>\n",
       "      <th>accuracy</th>\n",
       "      <th>F1</th>\n",
       "    </tr>\n",
       "  </thead>\n",
       "  <tbody>\n",
       "    <tr>\n",
       "      <th>train</th>\n",
       "      <td>0.964042</td>\n",
       "      <td>0.964231</td>\n",
       "    </tr>\n",
       "    <tr>\n",
       "      <th>test</th>\n",
       "      <td>0.920505</td>\n",
       "      <td>0.920340</td>\n",
       "    </tr>\n",
       "  </tbody>\n",
       "</table>\n",
       "</div>"
      ],
      "text/plain": [
       "       accuracy        F1\n",
       "train  0.964042  0.964231\n",
       "test   0.920505  0.920340"
      ]
     },
     "metadata": {},
     "output_type": "display_data"
    }
   ],
   "source": [
    "# xgboost\n",
    "\n",
    "model_xgb = XGBClassifier(n_estimators=500, learning_rate=0.5, max_depth=10, subsample=1, tree_method = \"exact\")\n",
    "model_xgb.fit(X_train, y_train)\n",
    "\n",
    "y_pred_train = model_xgb.predict(X_train)\n",
    "y_pred_test = model_xgb.predict(X_test)\n",
    "    \n",
    "train_accuracy = accuracy_score(y_train, y_pred_train)\n",
    "test_accuracy = accuracy_score(y_test, y_pred_test)\n",
    "    \n",
    "train_f1_score = f1_score(y_train, y_pred_train, average='weighted')\n",
    "test_f1_score = f1_score(y_test, y_pred_test, average='weighted')\n",
    "\n",
    "result_xgb = pd.DataFrame({'accuracy' : [train_accuracy, test_accuracy],\n",
    "                            'F1' : [train_f1_score, test_f1_score]},\n",
    "                            index = ['train','test'])\n",
    "\n",
    "display(result_xgb)"
   ]
  },
  {
   "cell_type": "markdown",
   "metadata": {},
   "source": [
    "#### 2) GradientBoosting"
   ]
  },
  {
   "cell_type": "code",
   "execution_count": 38,
   "metadata": {},
   "outputs": [
    {
     "data": {
      "text/html": [
       "<div>\n",
       "<style scoped>\n",
       "    .dataframe tbody tr th:only-of-type {\n",
       "        vertical-align: middle;\n",
       "    }\n",
       "\n",
       "    .dataframe tbody tr th {\n",
       "        vertical-align: top;\n",
       "    }\n",
       "\n",
       "    .dataframe thead th {\n",
       "        text-align: right;\n",
       "    }\n",
       "</style>\n",
       "<table border=\"1\" class=\"dataframe\">\n",
       "  <thead>\n",
       "    <tr style=\"text-align: right;\">\n",
       "      <th></th>\n",
       "      <th>accuracy</th>\n",
       "      <th>F1</th>\n",
       "    </tr>\n",
       "  </thead>\n",
       "  <tbody>\n",
       "    <tr>\n",
       "      <th>train</th>\n",
       "      <td>0.964042</td>\n",
       "      <td>0.964231</td>\n",
       "    </tr>\n",
       "    <tr>\n",
       "      <th>test</th>\n",
       "      <td>0.914274</td>\n",
       "      <td>0.913991</td>\n",
       "    </tr>\n",
       "  </tbody>\n",
       "</table>\n",
       "</div>"
      ],
      "text/plain": [
       "       accuracy        F1\n",
       "train  0.964042  0.964231\n",
       "test   0.914274  0.913991"
      ]
     },
     "metadata": {},
     "output_type": "display_data"
    }
   ],
   "source": [
    "# GradientBoosting\n",
    "\n",
    "model_gb = GradientBoostingClassifier(n_estimators=200, learning_rate=0.2, max_depth=10) \n",
    "model_gb.fit(X_train, y_train)\n",
    "\n",
    "y_pred_train = model_gb.predict(X_train)\n",
    "y_pred_test = model_gb.predict(X_test)\n",
    "    \n",
    "train_accuracy = accuracy_score(y_train, y_pred_train)\n",
    "test_accuracy = accuracy_score(y_test, y_pred_test)\n",
    "    \n",
    "train_f1_score = f1_score(y_train, y_pred_train, average='weighted')\n",
    "test_f1_score = f1_score(y_test, y_pred_test, average='weighted')\n",
    "\n",
    "result = pd.DataFrame({'accuracy' : [train_accuracy, test_accuracy],\n",
    "                            'F1' : [train_f1_score, test_f1_score]},\n",
    "                            index = ['train','test'])\n",
    "\n",
    "display(result)"
   ]
  },
  {
   "cell_type": "markdown",
   "metadata": {},
   "source": [
    "## 4) 그리드 서치 결과"
   ]
  },
  {
   "cell_type": "markdown",
   "metadata": {},
   "source": [
    "- XGBClassifier 그리드서치"
   ]
  },
  {
   "cell_type": "code",
   "execution_count": 47,
   "metadata": {},
   "outputs": [],
   "source": [
    "from sklearn.model_selection import GridSearchCV\n",
    "from xgboost import XGBClassifier\n",
    "\n",
    "# XGBoost 모델 정의\n",
    "model_xgb = XGBClassifier()\n",
    "\n",
    "# 탐색할 하이퍼파라미터 공간 정의\n",
    "param_grid = {\n",
    "    'n_estimators': [100, 200, 300],  # 트리의 개수\n",
    "    'learning_rate': [0.01, 0.1, 0.2, 0.5],  # 학습률\n",
    "    'max_depth': [3, 5, 7, 10],  # 트리의 최대 깊이\n",
    "    'subsample': [0.6, 0.8, 1.0],  # 각 트리에서 사용할 샘플의 비율\n",
    "    'tree_method': ['auto', 'exact', 'approx', 'hist'],  # 트리 구성 방법\n",
    "}\n",
    "\n",
    "# GridSearchCV를 사용하여 최적의 하이퍼파라미터 탐색\n",
    "grid_search = GridSearchCV(estimator=model_xgb, param_grid=param_grid, cv=3, scoring='accuracy')\n",
    "grid_search.fit(X_train, y_train)\n",
    "\n",
    "# 최적의 하이퍼파라미터 출력\n",
    "print(\"최적의 하이퍼파라미터:\", grid_search.best_params_)\n",
    "\n",
    "# 최적의 모델로 예측\n",
    "best_model = grid_search.best_estimator_\n",
    "y_pred_train = best_model.predict(X_train)\n",
    "y_pred_test = best_model.predict(X_test)\n",
    "\n",
    "# 성능 측정\n",
    "train_accuracy = accuracy_score(y_train, y_pred_train)\n",
    "test_accuracy = accuracy_score(y_test, y_pred_test)\n",
    "train_f1_score = f1_score(y_train, y_pred_train, average='weighted')\n",
    "test_f1_score = f1_score(y_test, y_pred_test, average='weighted')\n",
    "\n",
    "# 결과 출력\n",
    "result_xgb_tuned = pd.DataFrame({'accuracy': [train_accuracy, test_accuracy],\n",
    "                                  'F1': [train_f1_score, test_f1_score]},\n",
    "                                  index=['train', 'test'])\n",
    "\n",
    "print(result_xgb_tuned)"
   ]
  },
  {
   "cell_type": "markdown",
   "metadata": {},
   "source": [
    "- GradientBoostingClassifier 그리드서치"
   ]
  },
  {
   "cell_type": "code",
   "execution_count": null,
   "metadata": {},
   "outputs": [
    {
     "name": "stdout",
     "output_type": "stream",
     "text": [
      "최적의 하이퍼파라미터: {'learning_rate': 0.2, 'max_depth': 10, 'n_estimators': 200}\n",
      "       accuracy        F1\n",
      "train  0.964042  0.964231\n",
      "test   0.913183  0.912917\n"
     ]
    }
   ],
   "source": [
    "from sklearn.model_selection import GridSearchCV\n",
    "from sklearn.ensemble import GradientBoostingClassifier\n",
    "from sklearn.metrics import accuracy_score, f1_score\n",
    "import pandas as pd\n",
    "\n",
    "# GradientBoosting 모델 정의\n",
    "model_gb = GradientBoostingClassifier()\n",
    "\n",
    "# 탐색할 하이퍼파라미터 공간 정의\n",
    "param_grid = {\n",
    "    'n_estimators': [100, 200, 300],\n",
    "    'learning_rate': [0.1, 0.2, 0.3],\n",
    "    'max_depth': [5, 10, 15],\n",
    "    'subsample': [0.5, 0.7, 1.0],\n",
    "    'loss': ['deviance', 'exponential']\n",
    "}\n",
    "\n",
    "# GridSearchCV를 사용하여 최적의 하이퍼파라미터 탐색\n",
    "grid_search = GridSearchCV(estimator=model_gb, param_grid=param_grid, cv=3, scoring='accuracy')\n",
    "grid_search.fit(X_train, y_train)\n",
    "\n",
    "# 최적의 하이퍼파라미터 출력\n",
    "print(\"최적의 하이퍼파라미터:\", grid_search.best_params_)\n",
    "\n",
    "# 최적의 모델로 예측\n",
    "best_model = grid_search.best_estimator_\n",
    "y_pred_train = best_model.predict(X_train)\n",
    "y_pred_test = best_model.predict(X_test)\n",
    "\n",
    "# 성능 측정\n",
    "train_accuracy = accuracy_score(y_train, y_pred_train)\n",
    "test_accuracy = accuracy_score(y_test, y_pred_test)\n",
    "train_f1_score = f1_score(y_train, y_pred_train, average='weighted')\n",
    "test_f1_score = f1_score(y_test, y_pred_test, average='weighted')\n",
    "\n",
    "# 결과 출력\n",
    "result_gb_tuned = pd.DataFrame({'accuracy': [train_accuracy, test_accuracy],\n",
    "                                 'F1': [train_f1_score, test_f1_score]},\n",
    "                                 index=['train', 'test'])\n",
    "\n",
    "print(result_gb_tuned)"
   ]
  }
 ],
 "metadata": {
  "kernelspec": {
   "display_name": "Python 3 (ipykernel)",
   "language": "python",
   "name": "python3"
  },
  "language_info": {
   "codemirror_mode": {
    "name": "ipython",
    "version": 3
   },
   "file_extension": ".py",
   "mimetype": "text/x-python",
   "name": "python",
   "nbconvert_exporter": "python",
   "pygments_lexer": "ipython3",
   "version": "3.9.10"
  },
  "toc": {
   "base_numbering": 1,
   "nav_menu": {},
   "number_sections": true,
   "sideBar": true,
   "skip_h1_title": false,
   "title_cell": "Table of Contents",
   "title_sidebar": "Contents",
   "toc_cell": false,
   "toc_position": {},
   "toc_section_display": true,
   "toc_window_display": false
  }
 },
 "nbformat": 4,
 "nbformat_minor": 2
}
