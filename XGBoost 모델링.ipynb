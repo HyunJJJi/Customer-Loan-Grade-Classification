{
 "cells": [
  {
   "cell_type": "code",
   "execution_count": 1,
   "metadata": {},
   "outputs": [],
   "source": [
    "import sklearn\n",
    "import numpy as np\n",
    "import pandas as pd\n",
    "import matplotlib.pyplot as plt\n",
    "import seaborn as sns\n",
    "\n",
    "plt.rcParams['font.family'] = 'Malgun Gothic'"
   ]
  },
  {
   "cell_type": "code",
   "execution_count": 9,
   "metadata": {},
   "outputs": [
    {
     "data": {
      "text/html": [
       "<div>\n",
       "<style scoped>\n",
       "    .dataframe tbody tr th:only-of-type {\n",
       "        vertical-align: middle;\n",
       "    }\n",
       "\n",
       "    .dataframe tbody tr th {\n",
       "        vertical-align: top;\n",
       "    }\n",
       "\n",
       "    .dataframe thead th {\n",
       "        text-align: right;\n",
       "    }\n",
       "</style>\n",
       "<table border=\"1\" class=\"dataframe\">\n",
       "  <thead>\n",
       "    <tr style=\"text-align: right;\">\n",
       "      <th></th>\n",
       "      <th>Unnamed: 0</th>\n",
       "      <th>ID</th>\n",
       "      <th>대출금액</th>\n",
       "      <th>대출기간</th>\n",
       "      <th>근로기간</th>\n",
       "      <th>주택소유상태</th>\n",
       "      <th>연간소득</th>\n",
       "      <th>부채_대비_소득_비율</th>\n",
       "      <th>총계좌수</th>\n",
       "      <th>대출목적</th>\n",
       "      <th>최근_2년간_연체_횟수</th>\n",
       "      <th>총상환원금</th>\n",
       "      <th>총상환이자</th>\n",
       "      <th>총연체금액</th>\n",
       "      <th>연체계좌수</th>\n",
       "      <th>대출등급</th>\n",
       "      <th>총상환액</th>\n",
       "      <th>총상환대출비율</th>\n",
       "      <th>월별대출금액</th>\n",
       "    </tr>\n",
       "  </thead>\n",
       "  <tbody>\n",
       "    <tr>\n",
       "      <th>0</th>\n",
       "      <td>0</td>\n",
       "      <td>TRAIN_00000</td>\n",
       "      <td>0.658671</td>\n",
       "      <td>0.0</td>\n",
       "      <td>7</td>\n",
       "      <td>2</td>\n",
       "      <td>0.783116</td>\n",
       "      <td>0.324713</td>\n",
       "      <td>0.329845</td>\n",
       "      <td>1</td>\n",
       "      <td>0.0</td>\n",
       "      <td>0.000000</td>\n",
       "      <td>0.000000</td>\n",
       "      <td>0.0</td>\n",
       "      <td>0.0</td>\n",
       "      <td>2</td>\n",
       "      <td>0.000000</td>\n",
       "      <td>0.000000</td>\n",
       "      <td>0.658669</td>\n",
       "    </tr>\n",
       "    <tr>\n",
       "      <th>1</th>\n",
       "      <td>1</td>\n",
       "      <td>TRAIN_00001</td>\n",
       "      <td>0.698921</td>\n",
       "      <td>1.0</td>\n",
       "      <td>1</td>\n",
       "      <td>0</td>\n",
       "      <td>0.808957</td>\n",
       "      <td>0.341979</td>\n",
       "      <td>0.420151</td>\n",
       "      <td>10</td>\n",
       "      <td>0.0</td>\n",
       "      <td>0.731015</td>\n",
       "      <td>0.795184</td>\n",
       "      <td>0.0</td>\n",
       "      <td>0.0</td>\n",
       "      <td>1</td>\n",
       "      <td>0.758338</td>\n",
       "      <td>0.057717</td>\n",
       "      <td>0.555240</td>\n",
       "    </tr>\n",
       "    <tr>\n",
       "      <th>2</th>\n",
       "      <td>2</td>\n",
       "      <td>TRAIN_00002</td>\n",
       "      <td>0.647640</td>\n",
       "      <td>0.0</td>\n",
       "      <td>6</td>\n",
       "      <td>0</td>\n",
       "      <td>0.795568</td>\n",
       "      <td>0.245568</td>\n",
       "      <td>0.311543</td>\n",
       "      <td>1</td>\n",
       "      <td>0.0</td>\n",
       "      <td>0.782895</td>\n",
       "      <td>0.767395</td>\n",
       "      <td>0.0</td>\n",
       "      <td>0.0</td>\n",
       "      <td>0</td>\n",
       "      <td>0.791120</td>\n",
       "      <td>0.120407</td>\n",
       "      <td>0.647638</td>\n",
       "    </tr>\n",
       "  </tbody>\n",
       "</table>\n",
       "</div>"
      ],
      "text/plain": [
       "   Unnamed: 0           ID      대출금액  대출기간  근로기간  주택소유상태      연간소득  \\\n",
       "0           0  TRAIN_00000  0.658671   0.0     7       2  0.783116   \n",
       "1           1  TRAIN_00001  0.698921   1.0     1       0  0.808957   \n",
       "2           2  TRAIN_00002  0.647640   0.0     6       0  0.795568   \n",
       "\n",
       "   부채_대비_소득_비율      총계좌수  대출목적  최근_2년간_연체_횟수     총상환원금     총상환이자  총연체금액  \\\n",
       "0     0.324713  0.329845     1           0.0  0.000000  0.000000    0.0   \n",
       "1     0.341979  0.420151    10           0.0  0.731015  0.795184    0.0   \n",
       "2     0.245568  0.311543     1           0.0  0.782895  0.767395    0.0   \n",
       "\n",
       "   연체계좌수  대출등급      총상환액   총상환대출비율    월별대출금액  \n",
       "0    0.0     2  0.000000  0.000000  0.658669  \n",
       "1    0.0     1  0.758338  0.057717  0.555240  \n",
       "2    0.0     0  0.791120  0.120407  0.647638  "
      ]
     },
     "execution_count": 9,
     "metadata": {},
     "output_type": "execute_result"
    }
   ],
   "source": [
    "# 96293 rows × 18 columns\n",
    "df = pd.read_csv('preprocessed_train.csv') # train 데이터셋 불러오기\n",
    "df.head(3)"
   ]
  },
  {
   "cell_type": "code",
   "execution_count": 10,
   "metadata": {},
   "outputs": [
    {
     "name": "stdout",
     "output_type": "stream",
     "text": [
      "<class 'pandas.core.frame.DataFrame'>\n",
      "RangeIndex: 96293 entries, 0 to 96292\n",
      "Data columns (total 19 columns):\n",
      " #   Column        Non-Null Count  Dtype  \n",
      "---  ------        --------------  -----  \n",
      " 0   Unnamed: 0    96293 non-null  int64  \n",
      " 1   ID            96293 non-null  object \n",
      " 2   대출금액          96293 non-null  float64\n",
      " 3   대출기간          96293 non-null  float64\n",
      " 4   근로기간          96293 non-null  int64  \n",
      " 5   주택소유상태        96293 non-null  int64  \n",
      " 6   연간소득          96293 non-null  float64\n",
      " 7   부채_대비_소득_비율   96293 non-null  float64\n",
      " 8   총계좌수          96293 non-null  float64\n",
      " 9   대출목적          96293 non-null  int64  \n",
      " 10  최근_2년간_연체_횟수  96293 non-null  float64\n",
      " 11  총상환원금         96293 non-null  float64\n",
      " 12  총상환이자         96293 non-null  float64\n",
      " 13  총연체금액         96293 non-null  float64\n",
      " 14  연체계좌수         96293 non-null  float64\n",
      " 15  대출등급          96293 non-null  int64  \n",
      " 16  총상환액          96293 non-null  float64\n",
      " 17  총상환대출비율       96293 non-null  float64\n",
      " 18  월별대출금액        96293 non-null  float64\n",
      "dtypes: float64(13), int64(5), object(1)\n",
      "memory usage: 14.0+ MB\n"
     ]
    }
   ],
   "source": [
    "df.info()"
   ]
  },
  {
   "cell_type": "code",
   "execution_count": 12,
   "metadata": {},
   "outputs": [],
   "source": [
    "from sklearn.model_selection import train_test_split"
   ]
  },
  {
   "cell_type": "code",
   "execution_count": 14,
   "metadata": {},
   "outputs": [],
   "source": [
    "# 머신러닝모델 라이브러리 \n",
    "from sklearn.ensemble import GradientBoostingClassifier\n",
    "from xgboost import XGBClassifier\n",
    "\n",
    "# 평가 라이브러리\n",
    "from sklearn.metrics import accuracy_score, f1_score"
   ]
  },
  {
   "cell_type": "markdown",
   "metadata": {},
   "source": [
    "## 특정 feature에 대해 XGBoost"
   ]
  },
  {
   "cell_type": "code",
   "execution_count": 15,
   "metadata": {},
   "outputs": [],
   "source": [
    "# 미정님 \n",
    "# features = [‘대출기간‘, ‘총상환원금‘, ‘총상환이자‘, ‘총상환대출비율‘, ‘월별대출금액’]\n",
    "# model : XGBClassifier\n",
    "# 파라미터 : n_estimators=600, max_depth=20, learning_rate=0.5"
   ]
  },
  {
   "cell_type": "code",
   "execution_count": 30,
   "metadata": {},
   "outputs": [],
   "source": [
    "X_features = ['대출기간', '총상환원금', '총상환이자', '총상환대출비율', '월별대출금액']"
   ]
  },
  {
   "cell_type": "code",
   "execution_count": 31,
   "metadata": {},
   "outputs": [],
   "source": [
    "X = df[X_features] \n",
    "y = df['대출등급']\n",
    "\n",
    "X_train, X_test, y_train, y_test = train_test_split(X, y, test_size=0.2, random_state=42, stratify = y)"
   ]
  },
  {
   "cell_type": "markdown",
   "metadata": {},
   "source": [
    "#### 1) XGBoost"
   ]
  },
  {
   "cell_type": "code",
   "execution_count": 32,
   "metadata": {},
   "outputs": [
    {
     "data": {
      "text/html": [
       "<div>\n",
       "<style scoped>\n",
       "    .dataframe tbody tr th:only-of-type {\n",
       "        vertical-align: middle;\n",
       "    }\n",
       "\n",
       "    .dataframe tbody tr th {\n",
       "        vertical-align: top;\n",
       "    }\n",
       "\n",
       "    .dataframe thead th {\n",
       "        text-align: right;\n",
       "    }\n",
       "</style>\n",
       "<table border=\"1\" class=\"dataframe\">\n",
       "  <thead>\n",
       "    <tr style=\"text-align: right;\">\n",
       "      <th></th>\n",
       "      <th>accuracy</th>\n",
       "      <th>F1</th>\n",
       "    </tr>\n",
       "  </thead>\n",
       "  <tbody>\n",
       "    <tr>\n",
       "      <th>train</th>\n",
       "      <td>0.965405</td>\n",
       "      <td>0.965439</td>\n",
       "    </tr>\n",
       "    <tr>\n",
       "      <th>test</th>\n",
       "      <td>0.899268</td>\n",
       "      <td>0.898899</td>\n",
       "    </tr>\n",
       "  </tbody>\n",
       "</table>\n",
       "</div>"
      ],
      "text/plain": [
       "       accuracy        F1\n",
       "train  0.965405  0.965439\n",
       "test   0.899268  0.898899"
      ]
     },
     "metadata": {},
     "output_type": "display_data"
    }
   ],
   "source": [
    "# xgboost\n",
    "model_xgb = XGBClassifier(n_estimators=600, max_depth=20, learning_rate=0.5)\n",
    "model_xgb.fit(X_train, y_train)\n",
    "\n",
    "y_pred_train = model_xgb.predict(X_train)\n",
    "y_pred_test = model_xgb.predict(X_test)\n",
    "    \n",
    "train_accuracy = accuracy_score(y_train, y_pred_train)\n",
    "test_accuracy = accuracy_score(y_test, y_pred_test)\n",
    "    \n",
    "train_f1_score = f1_score(y_train, y_pred_train, average='weighted')\n",
    "test_f1_score = f1_score(y_test, y_pred_test, average='weighted')\n",
    "\n",
    "result_xgb = pd.DataFrame({'accuracy' : [train_accuracy, test_accuracy],\n",
    "                            'F1' : [train_f1_score, test_f1_score]},\n",
    "                            index = ['train','test'])\n",
    "\n",
    "display(result_xgb)"
   ]
  },
  {
   "cell_type": "code",
   "execution_count": 34,
   "metadata": {},
   "outputs": [
    {
     "data": {
      "text/plain": [
       "array([0.45565176, 0.11736884, 0.10294864, 0.3071066 , 0.01692414],\n",
       "      dtype=float32)"
      ]
     },
     "execution_count": 34,
     "metadata": {},
     "output_type": "execute_result"
    }
   ],
   "source": [
    "model_xgb.feature_importances_"
   ]
  },
  {
   "cell_type": "code",
   "execution_count": 48,
   "metadata": {},
   "outputs": [
    {
     "name": "stdout",
     "output_type": "stream",
     "text": [
      "   Feature  Importance\n",
      "0     대출기간    0.455652\n",
      "1  총상환대출비율    0.307107\n",
      "2    총상환원금    0.117369\n",
      "3    총상환이자    0.102949\n",
      "4   월별대출금액    0.016924\n"
     ]
    }
   ],
   "source": [
    "def get_feature_importance(model, features):\n",
    "    \n",
    "  # 중요도 추출\n",
    "  importances = model_xgb.feature_importances_\n",
    "\n",
    "  # 변수 이름과 중요도 매칭\n",
    "  feature_importance_df = pd.DataFrame({'Feature': features, 'Importance': importances})\n",
    "\n",
    "  # 중요도 기준 내림차순 정렬\n",
    "  feature_importance_df = feature_importance_df.sort_values('Importance', ascending=False)\n",
    "    \n",
    "  feature_importance_df = feature_importance_df.reset_index(drop=True)\n",
    "\n",
    "  return feature_importance_df\n",
    "\n",
    "# 변수 이름 리스트\n",
    "features = df.columns\n",
    "\n",
    "# 모델 중요도 확인\n",
    "feature_importance_df = get_feature_importance(model_xgb, X_features)\n",
    "\n",
    "# 결과 출력\n",
    "print(feature_importance_df.sort_values('Importance', ascending=False))\n"
   ]
  },
  {
   "cell_type": "code",
   "execution_count": 24,
   "metadata": {},
   "outputs": [
    {
     "data": {
      "image/png": "[encoded data removed]",
      "text/plain": [
       "<Figure size 800x800 with 1 Axes>"
      ]
     },
     "metadata": {},
     "output_type": "display_data"
    }
   ],
   "source": [
    "# 피처 중요도 얻기\n",
    "feature_importances = model_xgb.feature_importances_\n",
    "\n",
    "# 피처 중요도를 피처 이름과 함께 DataFrame으로 만들기\n",
    "feature_importance_model_xgb = pd.DataFrame({'Feature': X_train.columns, 'Importance': feature_importances})\n",
    "\n",
    "# 중요도에 따라 내림차순 정렬\n",
    "feature_importance_model_xgb = feature_importance_model_xgb.sort_values(by='Importance', ascending=True)\n",
    "\n",
    "# 피처 중요도 시각화\n",
    "plt.figure(figsize=(8, 8))\n",
    "plt.barh(feature_importance_model_xgb['Feature'], feature_importance_model_xgb['Importance'])\n",
    "plt.xlabel('Feature Importance')\n",
    "plt.title('Feature Importances (model_xgb)')\n",
    "plt.show()"
   ]
  },
  {
   "cell_type": "markdown",
   "metadata": {},
   "source": [
    "## 3) 하이퍼파라메터 튜닝"
   ]
  },
  {
   "cell_type": "markdown",
   "metadata": {},
   "source": [
    "#### 1) XGBoost"
   ]
  },
  {
   "cell_type": "code",
   "execution_count": 25,
   "metadata": {},
   "outputs": [
    {
     "data": {
      "text/html": [
       "<div>\n",
       "<style scoped>\n",
       "    .dataframe tbody tr th:only-of-type {\n",
       "        vertical-align: middle;\n",
       "    }\n",
       "\n",
       "    .dataframe tbody tr th {\n",
       "        vertical-align: top;\n",
       "    }\n",
       "\n",
       "    .dataframe thead th {\n",
       "        text-align: right;\n",
       "    }\n",
       "</style>\n",
       "<table border=\"1\" class=\"dataframe\">\n",
       "  <thead>\n",
       "    <tr style=\"text-align: right;\">\n",
       "      <th></th>\n",
       "      <th>accuracy</th>\n",
       "      <th>F1</th>\n",
       "    </tr>\n",
       "  </thead>\n",
       "  <tbody>\n",
       "    <tr>\n",
       "      <th>train</th>\n",
       "      <td>0.972155</td>\n",
       "      <td>0.972208</td>\n",
       "    </tr>\n",
       "    <tr>\n",
       "      <th>test</th>\n",
       "      <td>0.922737</td>\n",
       "      <td>0.922533</td>\n",
       "    </tr>\n",
       "  </tbody>\n",
       "</table>\n",
       "</div>"
      ],
      "text/plain": [
       "       accuracy        F1\n",
       "train  0.972155  0.972208\n",
       "test   0.922737  0.922533"
      ]
     },
     "metadata": {},
     "output_type": "display_data"
    }
   ],
   "source": [
    "# xgboost\n",
    "model_xgb = XGBClassifier(n_estimators=500, learning_rate=0.5, max_depth=10, subsample=1, tree_method = \"exact\")\n",
    "model_xgb.fit(X_train, y_train)\n",
    "\n",
    "y_pred_train = model_xgb.predict(X_train)\n",
    "y_pred_test = model_xgb.predict(X_test)\n",
    "    \n",
    "train_accuracy = accuracy_score(y_train, y_pred_train)\n",
    "test_accuracy = accuracy_score(y_test, y_pred_test)\n",
    "    \n",
    "train_f1_score = f1_score(y_train, y_pred_train, average='weighted')\n",
    "test_f1_score = f1_score(y_test, y_pred_test, average='weighted')\n",
    "\n",
    "result_xgb = pd.DataFrame({'accuracy' : [train_accuracy, test_accuracy],\n",
    "                            'F1' : [train_f1_score, test_f1_score]},\n",
    "                            index = ['train','test'])\n",
    "\n",
    "display(result_xgb)"
   ]
  },
  {
   "cell_type": "markdown",
   "metadata": {},
   "source": [
    "## 그리드 서치"
   ]
  },
  {
   "cell_type": "markdown",
   "metadata": {},
   "source": [
    "- XGBClassifier 그리드서치"
   ]
  },
  {
   "cell_type": "code",
   "execution_count": null,
   "metadata": {},
   "outputs": [],
   "source": [
    "from sklearn.model_selection import GridSearchCV\n",
    "from xgboost import XGBClassifier\n",
    "\n",
    "# XGBoost 모델 정의\n",
    "model_xgb = XGBClassifier()\n",
    "\n",
    "# 탐색할 하이퍼파라미터 공간 정의\n",
    "param_grid = {\n",
    "    'n_estimators': [100, 200, 300, 400, 500, 600],  # 트리의 개수\n",
    "    'learning_rate': [0.01, 0.1, 0.2, 0.5],  # 학습률\n",
    "    'max_depth': [3, 5, 7, 10, 20],  # 트리의 최대 깊이\n",
    "    'subsample': [0, 0.5, 0.8, 1.0],  # 각 트리에서 사용할 샘플의 비율\n",
    "    'tree_method': ['auto', 'exact', 'approx', 'hist'],  # 트리 구성 방법\n",
    "}\n",
    "\n",
    "# GridSearchCV를 사용하여 최적의 하이퍼파라미터 탐색\n",
    "grid_search = GridSearchCV(estimator=model_xgb, param_grid=param_grid, cv=3, scoring='accuracy')\n",
    "grid_search.fit(X_train, y_train)\n",
    "\n",
    "# 최적의 하이퍼파라미터 출력\n",
    "print(\"최적의 하이퍼파라미터:\", grid_search.best_params_)\n",
    "\n",
    "# 최적의 모델로 예측\n",
    "best_model = grid_search.best_estimator_\n",
    "y_pred_train = best_model.predict(X_train)\n",
    "y_pred_test = best_model.predict(X_test)\n",
    "\n",
    "# 성능 측정\n",
    "train_accuracy = accuracy_score(y_train, y_pred_train)\n",
    "test_accuracy = accuracy_score(y_test, y_pred_test)\n",
    "train_f1_score = f1_score(y_train, y_pred_train, average='weighted')\n",
    "test_f1_score = f1_score(y_test, y_pred_test, average='weighted')\n",
    "\n",
    "# 결과 출력\n",
    "result_xgb_tuned = pd.DataFrame({'accuracy': [train_accuracy, test_accuracy],\n",
    "                                  'F1': [train_f1_score, test_f1_score]},\n",
    "                                  index=['train', 'test'])\n",
    "\n",
    "print(result_xgb_tuned)"
   ]
  },
  {
   "cell_type": "code",
   "execution_count": null,
   "metadata": {},
   "outputs": [],
   "source": []
  }
 ],
 "metadata": {
  "kernelspec": {
   "display_name": "Python 3 (ipykernel)",
   "language": "python",
   "name": "python3"
  },
  "language_info": {
   "codemirror_mode": {
    "name": "ipython",
    "version": 3
   },
   "file_extension": ".py",
   "mimetype": "text/x-python",
   "name": "python",
   "nbconvert_exporter": "python",
   "pygments_lexer": "ipython3",
   "version": "3.11.4"
  },
  "toc": {
   "base_numbering": 1,
   "nav_menu": {},
   "number_sections": true,
   "sideBar": true,
   "skip_h1_title": false,
   "title_cell": "Table of Contents",
   "title_sidebar": "Contents",
   "toc_cell": false,
   "toc_position": {},
   "toc_section_display": true,
   "toc_window_display": false
  }
 },
 "nbformat": 4,
 "nbformat_minor": 2
}
